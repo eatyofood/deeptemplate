{
 "cells": [
  {
   "cell_type": "code",
   "execution_count": 1,
   "metadata": {},
   "outputs": [],
   "source": [
    "import pandas as pd\n",
    "import numpy as np\n",
    "from sklearn.preprocessing import scale\n",
    "import os\n",
    "dirli = os.listdir()\n",
    "#pd.DataFrame(dirli)"
   ]
  },
  {
   "cell_type": "markdown",
   "metadata": {},
   "source": [
    "## im going to pull the data frame in and save it without column names or anything"
   ]
  },
  {
   "cell_type": "code",
   "execution_count": 2,
   "metadata": {},
   "outputs": [],
   "source": [
    "dpath = 'ML_WARPATH-V3.1/clean_data/'\n",
    "sheets = os.listdir(dpath)\n",
    "sheet = [s for s in sheets if 'features' in s][0]\n",
    "df = pd.read_csv(dpath+sheet)\n",
    "df = df.drop('time',axis=1)\n",
    "#df"
   ]
  },
  {
   "cell_type": "code",
   "execution_count": 3,
   "metadata": {},
   "outputs": [],
   "source": [
    "df = df.replace(True,1).replace(False,0)"
   ]
  },
  {
   "cell_type": "code",
   "execution_count": 4,
   "metadata": {},
   "outputs": [],
   "source": [
    "df.to_csv('data.csv',header=False,index=False)"
   ]
  },
  {
   "cell_type": "code",
   "execution_count": null,
   "metadata": {},
   "outputs": [],
   "source": []
  },
  {
   "cell_type": "markdown",
   "metadata": {},
   "source": [
    "## load data with numpy"
   ]
  },
  {
   "cell_type": "code",
   "execution_count": 5,
   "metadata": {},
   "outputs": [],
   "source": [
    "raw_data = np.loadtxt('data.csv',delimiter=',')\n",
    "#pd.DataFrame(raw_data)"
   ]
  },
  {
   "cell_type": "markdown",
   "metadata": {},
   "source": [
    "## ok lets load a target frame"
   ]
  },
  {
   "cell_type": "code",
   "execution_count": 6,
   "metadata": {},
   "outputs": [
    {
     "data": {
      "text/html": [
       "<div>\n",
       "<style scoped>\n",
       "    .dataframe tbody tr th:only-of-type {\n",
       "        vertical-align: middle;\n",
       "    }\n",
       "\n",
       "    .dataframe tbody tr th {\n",
       "        vertical-align: top;\n",
       "    }\n",
       "\n",
       "    .dataframe thead th {\n",
       "        text-align: right;\n",
       "    }\n",
       "</style>\n",
       "<table border=\"1\" class=\"dataframe\">\n",
       "  <thead>\n",
       "    <tr style=\"text-align: right;\">\n",
       "      <th></th>\n",
       "      <th>0</th>\n",
       "    </tr>\n",
       "  </thead>\n",
       "  <tbody>\n",
       "    <tr>\n",
       "      <th>0</th>\n",
       "      <td>STDR10:down_target:_5TARGET!</td>\n",
       "    </tr>\n",
       "    <tr>\n",
       "      <th>1</th>\n",
       "      <td>STDR10:down_target:_4TARGET!</td>\n",
       "    </tr>\n",
       "    <tr>\n",
       "      <th>2</th>\n",
       "      <td>STDR10:down_target:_3TARGET!</td>\n",
       "    </tr>\n",
       "    <tr>\n",
       "      <th>3</th>\n",
       "      <td>STDR10:up_target:_3TARGET!</td>\n",
       "    </tr>\n",
       "    <tr>\n",
       "      <th>4</th>\n",
       "      <td>STDR10:up_target:_4TARGET!</td>\n",
       "    </tr>\n",
       "    <tr>\n",
       "      <th>5</th>\n",
       "      <td>STDR10:up_target:_5TARGET!</td>\n",
       "    </tr>\n",
       "    <tr>\n",
       "      <th>6</th>\n",
       "      <td>TARGET:uped_10!</td>\n",
       "    </tr>\n",
       "    <tr>\n",
       "      <th>7</th>\n",
       "      <td>TARGET:downed_10!</td>\n",
       "    </tr>\n",
       "    <tr>\n",
       "      <th>8</th>\n",
       "      <td>TARGET:uped_20!</td>\n",
       "    </tr>\n",
       "    <tr>\n",
       "      <th>9</th>\n",
       "      <td>TARGET:downed_20!</td>\n",
       "    </tr>\n",
       "    <tr>\n",
       "      <th>10</th>\n",
       "      <td>TARGET:uped_5!</td>\n",
       "    </tr>\n",
       "    <tr>\n",
       "      <th>11</th>\n",
       "      <td>TARGET:downed_5!</td>\n",
       "    </tr>\n",
       "    <tr>\n",
       "      <th>12</th>\n",
       "      <td>TARGET:fast:5_up_slow:10in:10</td>\n",
       "    </tr>\n",
       "    <tr>\n",
       "      <th>13</th>\n",
       "      <td>TARGET:fast:5_down_slow:10in:10</td>\n",
       "    </tr>\n",
       "  </tbody>\n",
       "</table>\n",
       "</div>"
      ],
      "text/plain": [
       "                                  0\n",
       "0      STDR10:down_target:_5TARGET!\n",
       "1      STDR10:down_target:_4TARGET!\n",
       "2      STDR10:down_target:_3TARGET!\n",
       "3        STDR10:up_target:_3TARGET!\n",
       "4        STDR10:up_target:_4TARGET!\n",
       "5        STDR10:up_target:_5TARGET!\n",
       "6                   TARGET:uped_10!\n",
       "7                 TARGET:downed_10!\n",
       "8                   TARGET:uped_20!\n",
       "9                 TARGET:downed_20!\n",
       "10                   TARGET:uped_5!\n",
       "11                 TARGET:downed_5!\n",
       "12    TARGET:fast:5_up_slow:10in:10\n",
       "13  TARGET:fast:5_down_slow:10in:10"
      ]
     },
     "execution_count": 6,
     "metadata": {},
     "output_type": "execute_result"
    }
   ],
   "source": [
    "tarsheet = [s for s in sheets if 'target' in s][0]\n",
    "df = pd.read_csv(dpath+tarsheet)\n",
    "targs = [col for col in df.columns if 'TARGET' in col]\n",
    "df = df[targs]\n",
    "targs = df.columns\n",
    "pd.DataFrame(targs)"
   ]
  },
  {
   "cell_type": "code",
   "execution_count": 7,
   "metadata": {},
   "outputs": [
    {
     "name": "stdout",
     "output_type": "stream",
     "text": [
      "TARGET:fast:5_down_slow:10in:10 1467 \n",
      "number_true: 749\n"
     ]
    }
   ],
   "source": [
    "t      =   13 \n",
    "target = targs[t]\n",
    "print(target,len(df[target]),'\\nnumber_true:',df[target].sum())\n"
   ]
  },
  {
   "cell_type": "markdown",
   "metadata": {},
   "source": [
    "## seperate targets from inputs"
   ]
  },
  {
   "cell_type": "code",
   "execution_count": 8,
   "metadata": {},
   "outputs": [
    {
     "data": {
      "text/plain": [
       "array([1., 1., 1., ..., 0., 0., 0.])"
      ]
     },
     "execution_count": 8,
     "metadata": {},
     "output_type": "execute_result"
    }
   ],
   "source": [
    "targets = df[target].replace(True,1).replace(False,0).values #<--VALUES makes itan array\n",
    "targets"
   ]
  },
  {
   "cell_type": "code",
   "execution_count": 9,
   "metadata": {},
   "outputs": [
    {
     "data": {
      "text/html": [
       "<div>\n",
       "<style scoped>\n",
       "    .dataframe tbody tr th:only-of-type {\n",
       "        vertical-align: middle;\n",
       "    }\n",
       "\n",
       "    .dataframe tbody tr th {\n",
       "        vertical-align: top;\n",
       "    }\n",
       "\n",
       "    .dataframe thead th {\n",
       "        text-align: right;\n",
       "    }\n",
       "</style>\n",
       "<table border=\"1\" class=\"dataframe\">\n",
       "  <thead>\n",
       "    <tr style=\"text-align: right;\">\n",
       "      <th></th>\n",
       "      <th>0</th>\n",
       "      <th>1</th>\n",
       "      <th>2</th>\n",
       "      <th>3</th>\n",
       "      <th>4</th>\n",
       "      <th>5</th>\n",
       "      <th>6</th>\n",
       "      <th>7</th>\n",
       "      <th>8</th>\n",
       "      <th>9</th>\n",
       "      <th>...</th>\n",
       "      <th>67</th>\n",
       "      <th>68</th>\n",
       "      <th>69</th>\n",
       "      <th>70</th>\n",
       "      <th>71</th>\n",
       "      <th>72</th>\n",
       "      <th>73</th>\n",
       "      <th>74</th>\n",
       "      <th>75</th>\n",
       "      <th>76</th>\n",
       "    </tr>\n",
       "  </thead>\n",
       "  <tbody>\n",
       "    <tr>\n",
       "      <th>0</th>\n",
       "      <td>13.02</td>\n",
       "      <td>13.02</td>\n",
       "      <td>13.00</td>\n",
       "      <td>13.00</td>\n",
       "      <td>784.0</td>\n",
       "      <td>366.000000</td>\n",
       "      <td>2835.0</td>\n",
       "      <td>0.086423</td>\n",
       "      <td>306.967625</td>\n",
       "      <td>80.621565</td>\n",
       "      <td>...</td>\n",
       "      <td>87.976036</td>\n",
       "      <td>99.462366</td>\n",
       "      <td>99.499245</td>\n",
       "      <td>-0.537634</td>\n",
       "      <td>0.603500</td>\n",
       "      <td>11.931611</td>\n",
       "      <td>0.000000</td>\n",
       "      <td>1.960784</td>\n",
       "      <td>1.941809</td>\n",
       "      <td>39.784946</td>\n",
       "    </tr>\n",
       "    <tr>\n",
       "      <th>1</th>\n",
       "      <td>13.00</td>\n",
       "      <td>14.00</td>\n",
       "      <td>13.00</td>\n",
       "      <td>14.00</td>\n",
       "      <td>421.0</td>\n",
       "      <td>787.000000</td>\n",
       "      <td>3256.0</td>\n",
       "      <td>0.169029</td>\n",
       "      <td>323.257964</td>\n",
       "      <td>82.888769</td>\n",
       "      <td>...</td>\n",
       "      <td>92.653349</td>\n",
       "      <td>100.000000</td>\n",
       "      <td>99.820789</td>\n",
       "      <td>-0.000000</td>\n",
       "      <td>0.718000</td>\n",
       "      <td>12.708814</td>\n",
       "      <td>0.000000</td>\n",
       "      <td>7.692308</td>\n",
       "      <td>7.410797</td>\n",
       "      <td>50.537634</td>\n",
       "    </tr>\n",
       "    <tr>\n",
       "      <th>2</th>\n",
       "      <td>13.75</td>\n",
       "      <td>13.75</td>\n",
       "      <td>13.75</td>\n",
       "      <td>13.75</td>\n",
       "      <td>100.0</td>\n",
       "      <td>787.000000</td>\n",
       "      <td>3156.0</td>\n",
       "      <td>0.165475</td>\n",
       "      <td>273.506826</td>\n",
       "      <td>83.354178</td>\n",
       "      <td>...</td>\n",
       "      <td>84.023595</td>\n",
       "      <td>94.680851</td>\n",
       "      <td>98.047739</td>\n",
       "      <td>-5.319149</td>\n",
       "      <td>0.875917</td>\n",
       "      <td>12.987013</td>\n",
       "      <td>0.000000</td>\n",
       "      <td>-1.785714</td>\n",
       "      <td>-1.801851</td>\n",
       "      <td>47.849462</td>\n",
       "    </tr>\n",
       "    <tr>\n",
       "      <th>3</th>\n",
       "      <td>13.75</td>\n",
       "      <td>14.25</td>\n",
       "      <td>13.75</td>\n",
       "      <td>14.25</td>\n",
       "      <td>700.0</td>\n",
       "      <td>1487.000000</td>\n",
       "      <td>3856.0</td>\n",
       "      <td>0.272544</td>\n",
       "      <td>284.434423</td>\n",
       "      <td>86.070547</td>\n",
       "      <td>...</td>\n",
       "      <td>90.383078</td>\n",
       "      <td>100.000000</td>\n",
       "      <td>98.226950</td>\n",
       "      <td>-0.000000</td>\n",
       "      <td>1.070462</td>\n",
       "      <td>13.288096</td>\n",
       "      <td>53.225806</td>\n",
       "      <td>3.636364</td>\n",
       "      <td>3.571808</td>\n",
       "      <td>53.225806</td>\n",
       "    </tr>\n",
       "    <tr>\n",
       "      <th>4</th>\n",
       "      <td>14.60</td>\n",
       "      <td>14.60</td>\n",
       "      <td>14.60</td>\n",
       "      <td>14.60</td>\n",
       "      <td>282.0</td>\n",
       "      <td>1487.000000</td>\n",
       "      <td>4138.0</td>\n",
       "      <td>0.259150</td>\n",
       "      <td>257.900934</td>\n",
       "      <td>86.959303</td>\n",
       "      <td>...</td>\n",
       "      <td>91.211998</td>\n",
       "      <td>100.000000</td>\n",
       "      <td>98.226950</td>\n",
       "      <td>-0.000000</td>\n",
       "      <td>1.283071</td>\n",
       "      <td>13.631320</td>\n",
       "      <td>34.562212</td>\n",
       "      <td>2.456140</td>\n",
       "      <td>2.426462</td>\n",
       "      <td>56.989247</td>\n",
       "    </tr>\n",
       "    <tr>\n",
       "      <th>...</th>\n",
       "      <td>...</td>\n",
       "      <td>...</td>\n",
       "      <td>...</td>\n",
       "      <td>...</td>\n",
       "      <td>...</td>\n",
       "      <td>...</td>\n",
       "      <td>...</td>\n",
       "      <td>...</td>\n",
       "      <td>...</td>\n",
       "      <td>...</td>\n",
       "      <td>...</td>\n",
       "      <td>...</td>\n",
       "      <td>...</td>\n",
       "      <td>...</td>\n",
       "      <td>...</td>\n",
       "      <td>...</td>\n",
       "      <td>...</td>\n",
       "      <td>...</td>\n",
       "      <td>...</td>\n",
       "      <td>...</td>\n",
       "      <td>...</td>\n",
       "    </tr>\n",
       "    <tr>\n",
       "      <th>1462</th>\n",
       "      <td>19.21</td>\n",
       "      <td>19.21</td>\n",
       "      <td>19.21</td>\n",
       "      <td>19.21</td>\n",
       "      <td>200.0</td>\n",
       "      <td>11796.020301</td>\n",
       "      <td>46653.0</td>\n",
       "      <td>-0.074313</td>\n",
       "      <td>17.232214</td>\n",
       "      <td>47.484022</td>\n",
       "      <td>...</td>\n",
       "      <td>47.283535</td>\n",
       "      <td>28.491620</td>\n",
       "      <td>26.384039</td>\n",
       "      <td>-71.508380</td>\n",
       "      <td>-0.329382</td>\n",
       "      <td>19.423586</td>\n",
       "      <td>-2.487310</td>\n",
       "      <td>0.313316</td>\n",
       "      <td>0.312826</td>\n",
       "      <td>106.559140</td>\n",
       "    </tr>\n",
       "    <tr>\n",
       "      <th>1463</th>\n",
       "      <td>19.15</td>\n",
       "      <td>19.15</td>\n",
       "      <td>19.15</td>\n",
       "      <td>19.15</td>\n",
       "      <td>300.0</td>\n",
       "      <td>11796.020301</td>\n",
       "      <td>46353.0</td>\n",
       "      <td>-0.099894</td>\n",
       "      <td>12.199040</td>\n",
       "      <td>41.228027</td>\n",
       "      <td>...</td>\n",
       "      <td>48.851891</td>\n",
       "      <td>25.139665</td>\n",
       "      <td>26.256983</td>\n",
       "      <td>-74.860335</td>\n",
       "      <td>-0.264912</td>\n",
       "      <td>19.414415</td>\n",
       "      <td>-2.046036</td>\n",
       "      <td>-0.312337</td>\n",
       "      <td>-0.312826</td>\n",
       "      <td>105.913978</td>\n",
       "    </tr>\n",
       "    <tr>\n",
       "      <th>1464</th>\n",
       "      <td>20.05</td>\n",
       "      <td>20.05</td>\n",
       "      <td>20.05</td>\n",
       "      <td>20.05</td>\n",
       "      <td>200.0</td>\n",
       "      <td>11796.020301</td>\n",
       "      <td>46553.0</td>\n",
       "      <td>-0.099894</td>\n",
       "      <td>36.170606</td>\n",
       "      <td>41.265287</td>\n",
       "      <td>...</td>\n",
       "      <td>67.436511</td>\n",
       "      <td>75.418994</td>\n",
       "      <td>43.016760</td>\n",
       "      <td>-24.581006</td>\n",
       "      <td>-0.082912</td>\n",
       "      <td>19.417727</td>\n",
       "      <td>-0.248756</td>\n",
       "      <td>4.699739</td>\n",
       "      <td>4.592644</td>\n",
       "      <td>115.591398</td>\n",
       "    </tr>\n",
       "    <tr>\n",
       "      <th>1465</th>\n",
       "      <td>20.14</td>\n",
       "      <td>20.15</td>\n",
       "      <td>20.14</td>\n",
       "      <td>20.15</td>\n",
       "      <td>200.0</td>\n",
       "      <td>11996.020301</td>\n",
       "      <td>46753.0</td>\n",
       "      <td>-0.099894</td>\n",
       "      <td>33.860519</td>\n",
       "      <td>44.112903</td>\n",
       "      <td>...</td>\n",
       "      <td>71.809064</td>\n",
       "      <td>81.005587</td>\n",
       "      <td>60.521415</td>\n",
       "      <td>-18.994413</td>\n",
       "      <td>0.136588</td>\n",
       "      <td>19.434710</td>\n",
       "      <td>2.492370</td>\n",
       "      <td>0.498753</td>\n",
       "      <td>0.497513</td>\n",
       "      <td>116.666667</td>\n",
       "    </tr>\n",
       "    <tr>\n",
       "      <th>1466</th>\n",
       "      <td>20.74</td>\n",
       "      <td>20.74</td>\n",
       "      <td>20.74</td>\n",
       "      <td>20.74</td>\n",
       "      <td>100.0</td>\n",
       "      <td>11996.020301</td>\n",
       "      <td>46853.0</td>\n",
       "      <td>-0.105499</td>\n",
       "      <td>37.451874</td>\n",
       "      <td>44.144981</td>\n",
       "      <td>...</td>\n",
       "      <td>71.849344</td>\n",
       "      <td>100.000000</td>\n",
       "      <td>85.474860</td>\n",
       "      <td>-0.000000</td>\n",
       "      <td>0.431941</td>\n",
       "      <td>19.549815</td>\n",
       "      <td>3.648176</td>\n",
       "      <td>2.928040</td>\n",
       "      <td>2.885991</td>\n",
       "      <td>123.010753</td>\n",
       "    </tr>\n",
       "  </tbody>\n",
       "</table>\n",
       "<p>1467 rows × 77 columns</p>\n",
       "</div>"
      ],
      "text/plain": [
       "         0      1      2      3      4             5        6         7   \\\n",
       "0     13.02  13.02  13.00  13.00  784.0    366.000000   2835.0  0.086423   \n",
       "1     13.00  14.00  13.00  14.00  421.0    787.000000   3256.0  0.169029   \n",
       "2     13.75  13.75  13.75  13.75  100.0    787.000000   3156.0  0.165475   \n",
       "3     13.75  14.25  13.75  14.25  700.0   1487.000000   3856.0  0.272544   \n",
       "4     14.60  14.60  14.60  14.60  282.0   1487.000000   4138.0  0.259150   \n",
       "...     ...    ...    ...    ...    ...           ...      ...       ...   \n",
       "1462  19.21  19.21  19.21  19.21  200.0  11796.020301  46653.0 -0.074313   \n",
       "1463  19.15  19.15  19.15  19.15  300.0  11796.020301  46353.0 -0.099894   \n",
       "1464  20.05  20.05  20.05  20.05  200.0  11796.020301  46553.0 -0.099894   \n",
       "1465  20.14  20.15  20.14  20.15  200.0  11996.020301  46753.0 -0.099894   \n",
       "1466  20.74  20.74  20.74  20.74  100.0  11996.020301  46853.0 -0.105499   \n",
       "\n",
       "              8          9   ...         67          68         69         70  \\\n",
       "0     306.967625  80.621565  ...  87.976036   99.462366  99.499245  -0.537634   \n",
       "1     323.257964  82.888769  ...  92.653349  100.000000  99.820789  -0.000000   \n",
       "2     273.506826  83.354178  ...  84.023595   94.680851  98.047739  -5.319149   \n",
       "3     284.434423  86.070547  ...  90.383078  100.000000  98.226950  -0.000000   \n",
       "4     257.900934  86.959303  ...  91.211998  100.000000  98.226950  -0.000000   \n",
       "...          ...        ...  ...        ...         ...        ...        ...   \n",
       "1462   17.232214  47.484022  ...  47.283535   28.491620  26.384039 -71.508380   \n",
       "1463   12.199040  41.228027  ...  48.851891   25.139665  26.256983 -74.860335   \n",
       "1464   36.170606  41.265287  ...  67.436511   75.418994  43.016760 -24.581006   \n",
       "1465   33.860519  44.112903  ...  71.809064   81.005587  60.521415 -18.994413   \n",
       "1466   37.451874  44.144981  ...  71.849344  100.000000  85.474860  -0.000000   \n",
       "\n",
       "            71         72         73        74        75          76  \n",
       "0     0.603500  11.931611   0.000000  1.960784  1.941809   39.784946  \n",
       "1     0.718000  12.708814   0.000000  7.692308  7.410797   50.537634  \n",
       "2     0.875917  12.987013   0.000000 -1.785714 -1.801851   47.849462  \n",
       "3     1.070462  13.288096  53.225806  3.636364  3.571808   53.225806  \n",
       "4     1.283071  13.631320  34.562212  2.456140  2.426462   56.989247  \n",
       "...        ...        ...        ...       ...       ...         ...  \n",
       "1462 -0.329382  19.423586  -2.487310  0.313316  0.312826  106.559140  \n",
       "1463 -0.264912  19.414415  -2.046036 -0.312337 -0.312826  105.913978  \n",
       "1464 -0.082912  19.417727  -0.248756  4.699739  4.592644  115.591398  \n",
       "1465  0.136588  19.434710   2.492370  0.498753  0.497513  116.666667  \n",
       "1466  0.431941  19.549815   3.648176  2.928040  2.885991  123.010753  \n",
       "\n",
       "[1467 rows x 77 columns]"
      ]
     },
     "execution_count": 9,
     "metadata": {},
     "output_type": "execute_result"
    }
   ],
   "source": [
    "features = raw_data#[:,1:-1]\n",
    "\n",
    "pd.DataFrame(features)"
   ]
  },
  {
   "cell_type": "markdown",
   "metadata": {},
   "source": [
    "## balance the prios ( target values ) "
   ]
  },
  {
   "cell_type": "code",
   "execution_count": 10,
   "metadata": {},
   "outputs": [],
   "source": [
    "num_one_targs = int(np.sum(targets)) #b/c these are booleans you know\n",
    "zero_counter = 0\n",
    "indices_to_remove=[]\n",
    "\n",
    "for i in range(targets.shape[0]):\n",
    "    if targets[i]==0:\n",
    "        zero_counter += 1\n",
    "        if zero_counter > num_one_targs:\n",
    "            indices_to_remove.append(i)\n",
    "            \n"
   ]
  },
  {
   "cell_type": "code",
   "execution_count": 11,
   "metadata": {},
   "outputs": [],
   "source": [
    "unscaled_inputs_equal_priors = np.delete(features,indices_to_remove,axis=0)\n",
    "targets = np.delete(targets,indices_to_remove,axis=0)"
   ]
  },
  {
   "cell_type": "code",
   "execution_count": 12,
   "metadata": {},
   "outputs": [],
   "source": [
    "from sklearn import preprocessing"
   ]
  },
  {
   "cell_type": "code",
   "execution_count": 13,
   "metadata": {},
   "outputs": [
    {
     "name": "stderr",
     "output_type": "stream",
     "text": [
      "/home/brado/.local/lib/python3.8/site-packages/sklearn/preprocessing/_data.py:174: UserWarning: Numerical issues were encountered when centering the data and might not be solved. Dataset may contain too large values. You may need to prescale your features.\n",
      "  warnings.warn(\"Numerical issues were encountered \"\n"
     ]
    }
   ],
   "source": [
    "scaled_inputs = preprocessing.scale(unscaled_inputs_equal_priors)"
   ]
  },
  {
   "cell_type": "code",
   "execution_count": 14,
   "metadata": {},
   "outputs": [],
   "source": [
    "shuffled_inices = np.arange(scaled_inputs.shape[0])\n",
    "np.random.shuffle(shuffled_inices)\n",
    "\n",
    "shuffled_inputs = scaled_inputs[shuffled_inices]\n",
    "shuffled_targets= targets[shuffled_inices]"
   ]
  },
  {
   "cell_type": "code",
   "execution_count": 15,
   "metadata": {},
   "outputs": [
    {
     "data": {
      "text/plain": [
       "0.5105657805044308"
      ]
     },
     "execution_count": 15,
     "metadata": {},
     "output_type": "execute_result"
    }
   ],
   "source": [
    "float(sum(shuffled_targets)/len(shuffled_targets))"
   ]
  },
  {
   "cell_type": "code",
   "execution_count": 16,
   "metadata": {},
   "outputs": [],
   "source": [
    "samples_count = shuffled_inputs.shape[0]\n",
    "\n",
    "train_samples_count = int(0.8*samples_count)\n",
    "validation_samples_count = int(0.1*samples_count)\n",
    "test_samples_count = int(0.1*samples_count)"
   ]
  },
  {
   "cell_type": "code",
   "execution_count": 17,
   "metadata": {},
   "outputs": [],
   "source": [
    "train_inputs = shuffled_inputs[:train_samples_count]\n",
    "train_targets= shuffled_targets[:train_samples_count]\n",
    "\n",
    "val_inputs   = shuffled_inputs[train_samples_count:train_samples_count+validation_samples_count]\n",
    "val_targets  = shuffled_targets[train_samples_count:train_samples_count+validation_samples_count]\n",
    "\n",
    "test_inputs  = shuffled_inputs[train_samples_count+validation_samples_count:]\n",
    "test_targets = shuffled_targets[train_samples_count+validation_samples_count:]"
   ]
  },
  {
   "cell_type": "code",
   "execution_count": 18,
   "metadata": {},
   "outputs": [
    {
     "data": {
      "text/plain": [
       "0.5105657805044308"
      ]
     },
     "execution_count": 18,
     "metadata": {},
     "output_type": "execute_result"
    }
   ],
   "source": [
    "(sum(shuffled_targets)/len(shuffled_targets))"
   ]
  },
  {
   "cell_type": "markdown",
   "metadata": {},
   "source": [
    "## verify that ya did it right..."
   ]
  },
  {
   "cell_type": "code",
   "execution_count": 19,
   "metadata": {},
   "outputs": [
    {
     "name": "stdout",
     "output_type": "stream",
     "text": [
      "604.0 1173 0.514919011082694\n",
      "77.0 146 0.5273972602739726\n",
      "68.0 146 0.4657534246575342\n"
     ]
    }
   ],
   "source": [
    "print(sum(train_targets),train_samples_count,sum(train_targets)/train_samples_count)\n",
    "\n",
    "print(sum(val_targets),validation_samples_count,sum(val_targets)/validation_samples_count)\n",
    "\n",
    "print(sum(test_targets),test_samples_count,sum(test_targets)/test_samples_count)"
   ]
  },
  {
   "cell_type": "markdown",
   "metadata": {},
   "source": [
    "## save the data"
   ]
  },
  {
   "cell_type": "code",
   "execution_count": 20,
   "metadata": {},
   "outputs": [],
   "source": [
    "# NOTE! --------------\\/ THESE ARGS ARE ARBITRARY YOU CAN NAME THEM HOW EVER YOU LIKE AND THE file will saave with that as yoursplit names\n",
    "np.savez('train.csv',inputs=train_inputs,targets=train_targets)\n",
    "np.savez('validation.csv',inputs=val_inputs,targets=val_targets)\n",
    "np.savez('test.csv',inputs=test_inputs,targets=test_targets)\n"
   ]
  },
  {
   "cell_type": "markdown",
   "metadata": {},
   "source": [
    "## Every time you run the code you will get a differnt shuffle"
   ]
  },
  {
   "cell_type": "code",
   "execution_count": null,
   "metadata": {},
   "outputs": [],
   "source": []
  }
 ],
 "metadata": {
  "kernelspec": {
   "display_name": "Python 3",
   "language": "python",
   "name": "python3"
  },
  "language_info": {
   "codemirror_mode": {
    "name": "ipython",
    "version": 3
   },
   "file_extension": ".py",
   "mimetype": "text/x-python",
   "name": "python",
   "nbconvert_exporter": "python",
   "pygments_lexer": "ipython3",
   "version": "3.8.5"
  }
 },
 "nbformat": 4,
 "nbformat_minor": 4
}
